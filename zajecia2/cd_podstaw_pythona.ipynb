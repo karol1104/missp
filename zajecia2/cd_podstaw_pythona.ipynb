{
  "nbformat": 4,
  "nbformat_minor": 0,
  "metadata": {
    "language_info": {
      "codemirror_mode": {
        "name": "ipython",
        "version": 3
      },
      "file_extension": ".py",
      "mimetype": "text/x-python",
      "name": "python",
      "nbconvert_exporter": "python",
      "pygments_lexer": "ipython3",
      "version": "3.8.2-final"
    },
    "orig_nbformat": 2,
    "kernelspec": {
      "name": "python3",
      "display_name": "Python 3.8.2 32-bit",
      "metadata": {
        "interpreter": {
          "hash": "043792a4145a11e703eb0d0c0a933b88a7ecde794afa4caa1798b22df72c9741"
        }
      }
    },
    "colab": {
      "name": "cd_podstaw_pythona.ipynb",
      "provenance": []
    }
  },
  "cells": [
    {
      "cell_type": "markdown",
      "metadata": {
        "id": "gNjk0g3JXXBZ"
      },
      "source": [
        "## Zadanie 1\n",
        "\n",
        "W tyn zadaniu museliśmy stworzyć klase. \n",
        "Celem stworzenej przez nas klasy jest sprawdzanie czy podany numer jest prawidłowy, zwraca słownie każdą z cyfr numeru jako słowo i podaje województwo z jakiego jest dany numer stacjonarny.\n",
        "\n"
      ]
    },
    {
      "cell_type": "code",
      "metadata": {
        "colab": {
          "base_uri": "https://localhost:8080/"
        },
        "id": "dG5zNVe0XXBc",
        "outputId": "2ef8f238-4e54-4a10-bd82-c4e9df46f784"
      },
      "source": [
        "import collections\n",
        "\n",
        "class nr_telefonu():\n",
        "\n",
        "    def __init__(self,numer):\n",
        "        self.nr_tele = numer\n",
        "        if len(self.nr_tele) == 9:\n",
        "            print(\"Prawidłowy numer\")\n",
        "        else:\n",
        "            print(\"Nieprawidłowy numer\")\n",
        "                \n",
        "    def wojewodztwo(self):\n",
        "        telefon_kierunkowy = self.nr_tele[0]+self.nr_tele[1]\n",
        "        telefony_kierunkowe = {\"24\":\"Płock\",\"54\":\"Włocławek\",\"22\":\"Warszawa\"}\n",
        "        try:\n",
        "            kierunkowy = telefony_kierunkowe[telefon_kierunkowy]\n",
        "        except KeyError:\n",
        "            kierunkowy = \"Komórkowy nie z płocka, włocławka, warszawy\"\n",
        "        return kierunkowy\n",
        "\n",
        "    def __repr__(self):\n",
        "        cyfry = [\"zero\",\"jeden\",\"dwa\",\"trzy\",\"cztery\",\"pięć\",\"sześć\",\"siedem\",\"osiem\",\"dziewięć\"]\n",
        "        numer_string = \"\"\n",
        "        for cyfra in self.nr_tele:\n",
        "            numer_string = numer_string + \" \" + cyfry[int(cyfra)]\n",
        "        return numer_string\n",
        "\n",
        "numer_do_wpisania=nr_telefonu(\"124352\")\n",
        "print (numer_do_wpisania.wojewodztwo())\n",
        "print (numer_do_wpisania)"
      ],
      "execution_count": 2,
      "outputs": [
        {
          "output_type": "stream",
          "text": [
            "Nieprawidłowy numer\n",
            "Komórkowy inny, niz płock, włocławek, warszawa\n",
            " jeden dwa dwa dwa dwa dwa\n"
          ],
          "name": "stdout"
        }
      ]
    },
    {
      "cell_type": "code",
      "metadata": {
        "id": "fXSdECe5XXBe"
      },
      "source": [
        ""
      ],
      "execution_count": null,
      "outputs": []
    }
  ]
}