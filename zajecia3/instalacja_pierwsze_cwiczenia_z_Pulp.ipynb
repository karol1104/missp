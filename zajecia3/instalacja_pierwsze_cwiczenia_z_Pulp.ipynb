{
  "nbformat": 4,
  "nbformat_minor": 0,
  "metadata": {
    "colab": {
      "name": "instalacja_pierwsze_cwiczenia_z_Pulp.ipynb",
      "provenance": [],
      "collapsed_sections": []
    },
    "kernelspec": {
      "name": "python3",
      "display_name": "Python 3.8.2 32-bit",
      "metadata": {
        "interpreter": {
          "hash": "043792a4145a11e703eb0d0c0a933b88a7ecde794afa4caa1798b22df72c9741"
        }
      }
    }
  },
  "cells": [
    {
      "cell_type": "markdown",
      "metadata": {
        "id": "fH3ZI2F0c9Mo"
      },
      "source": [
        "## Zadania PULP\n",
        "Celem zadania jest zapozanie się z programowaniem liniowym i biblioteki PULP.\n",
        "Zadanie polegało na dodaniu zmiennej decyzjnej. Stworzenie zmiennej, która pojawia się w końcowym składzie produktu i dodadanie ogarniczenia co do zawartości witaminy B\n",
        "\n"
      ]
    },
    {
      "cell_type": "markdown",
      "metadata": {
        "id": "0fFbDh0hc9Mr"
      },
      "source": [
        "### Drugi podpunkt\r\n"
      ]
    },
    {
      "cell_type": "code",
      "metadata": {
        "colab": {
          "base_uri": "https://localhost:8080/",
          "height": 367
        },
        "id": "tYWFI3g1c9Ms",
        "outputId": "28f7b264-da89-466d-8a46-c778240cab92"
      },
      "source": [
        "from pulp import *\n",
        "prob = LpProblem(\"The Whiskas Problem\",LpMinimize)\n",
        "Ingredients = ['CHICKEN', 'BEEF', 'MUTTON', 'RICE', 'WHEAT', 'GEL', 'SARDINES']\n",
        "\n",
        "costs = {'CHICKEN': 0.007, \n",
        "         'BEEF': 0.020, \n",
        "         'MUTTON': 0.016, \n",
        "         'RICE': 0.004, \n",
        "         'WHEAT': 0.005, \n",
        "         'GEL': 0.002, \n",
        "         'SARDINES': 0.012}\n",
        "\n",
        "proteinPercent = {'CHICKEN': 0.270, \n",
        "                  'BEEF': 0.260, \n",
        "                  'MUTTON': 0.250, \n",
        "                  'RICE': 0.000, \n",
        "                  'WHEAT': 0.040, \n",
        "                  'GEL': 0.000, \n",
        "                  'SARDINES': 0.25}\n",
        "\n",
        "fatPercent = {'CHICKEN': 0.140, \n",
        "              'BEEF': 0.150, \n",
        "              'MUTTON': 0.160, \n",
        "              'RICE': 0.010, \n",
        "              'WHEAT': 0.010, \n",
        "              'GEL': 0.000, \n",
        "              'SARDINES': 0.110}\n",
        "\n",
        "fibrePercent = {'CHICKEN': 0.000, \n",
        "                'BEEF': 0.000, \n",
        "                'MUTTON': 0.000, \n",
        "                'RICE': 0.400, \n",
        "                'WHEAT': 0.150, \n",
        "                'GEL': 0.000, \n",
        "                'SARDINES': 0.000}\n",
        "\n",
        "saltPercent = {'CHICKEN': 0.004, \n",
        "               'BEEF': 0.010, \n",
        "               'MUTTON': 0.006, \n",
        "               'RICE': 0.002, \n",
        "               'WHEAT': 0.008, \n",
        "               'GEL': 0.000, \n",
        "               'SARDINES': 0.005}\n",
        "\n",
        "vitaminBinug = {'CHICKEN': 0.003, \n",
        "                'BEEF': 0.022, \n",
        "                'MUTTON': 0.032, \n",
        "                'RICE': 0.000, \n",
        "                'WHEAT': 0.000, \n",
        "                'GEL': 0.000, \n",
        "                'SARDINES': 0.091}\n",
        "                \n",
        "ingredient_vars = LpVariable.dicts(\"Ingr\",Ingredients,0,100)\n",
        "prob += lpSum([costs[i]*ingredient_vars[i] for i in Ingredients]), \"Total Cost of Ingredients per can\"\n",
        "prob += lpSum([ingredient_vars[i] for i in Ingredients]) == 100, \"PercentagesSum\"\n",
        "prob += lpSum([proteinPercent[i] * ingredient_vars[i] for i in Ingredients]) >= 8.0, \"ProteinRequirement\"\n",
        "prob += lpSum([fatPercent[i] * ingredient_vars[i] for i in Ingredients]) >= 6.0, \"FatRequirement\"\n",
        "prob += lpSum([fibrePercent[i] * ingredient_vars[i] for i in Ingredients]) <= 2.0, \"FibreRequirement\"\n",
        "prob += lpSum([saltPercent[i] * ingredient_vars[i] for i in Ingredients]) <= 0.4, \"SaltRequirement\"\n",
        "prob += lpSum([vitaminBinug[i] * ingredient_vars[i] for i in Ingredients]) >= 0.8 , \"VitaminBRequirement\"\n",
        "\n",
        "prob.solve()\n",
        "ingr = \", \".join([\"{}: {}%\".format(name,round(i.varValue,2)) for i,name in zip(prob.variables(),sorted(Ingredients))])\n",
        "\n",
        "print(\"Końcowy produkt będzie kosztować {}$, będzie miał w składzie {}\".format(round(value(prob.objective),2),ingr))"
      ],
      "execution_count": 3,
      "outputs": [
        {
          "output_type": "error",
          "ename": "ModuleNotFoundError",
          "evalue": "ignored",
          "traceback": [
            "\u001b[0;31m---------------------------------------------------------------------------\u001b[0m",
            "\u001b[0;31mModuleNotFoundError\u001b[0m                       Traceback (most recent call last)",
            "\u001b[0;32m<ipython-input-3-ca2ed5470003>\u001b[0m in \u001b[0;36m<module>\u001b[0;34m()\u001b[0m\n\u001b[0;32m----> 1\u001b[0;31m \u001b[0;32mfrom\u001b[0m \u001b[0mpulp\u001b[0m \u001b[0;32mimport\u001b[0m \u001b[0;34m*\u001b[0m\u001b[0;34m\u001b[0m\u001b[0;34m\u001b[0m\u001b[0m\n\u001b[0m\u001b[1;32m      2\u001b[0m \u001b[0mprob\u001b[0m \u001b[0;34m=\u001b[0m \u001b[0mLpProblem\u001b[0m\u001b[0;34m(\u001b[0m\u001b[0;34m\"The Whiskas Problem\"\u001b[0m\u001b[0;34m,\u001b[0m\u001b[0mLpMinimize\u001b[0m\u001b[0;34m)\u001b[0m\u001b[0;34m\u001b[0m\u001b[0;34m\u001b[0m\u001b[0m\n\u001b[1;32m      3\u001b[0m \u001b[0mIngredients\u001b[0m \u001b[0;34m=\u001b[0m \u001b[0;34m[\u001b[0m\u001b[0;34m'CHICKEN'\u001b[0m\u001b[0;34m,\u001b[0m \u001b[0;34m'BEEF'\u001b[0m\u001b[0;34m,\u001b[0m \u001b[0;34m'MUTTON'\u001b[0m\u001b[0;34m,\u001b[0m \u001b[0;34m'RICE'\u001b[0m\u001b[0;34m,\u001b[0m \u001b[0;34m'WHEAT'\u001b[0m\u001b[0;34m,\u001b[0m \u001b[0;34m'GEL'\u001b[0m\u001b[0;34m,\u001b[0m \u001b[0;34m'SARDINES'\u001b[0m\u001b[0;34m]\u001b[0m\u001b[0;34m\u001b[0m\u001b[0;34m\u001b[0m\u001b[0m\n\u001b[1;32m      4\u001b[0m costs = {'CHICKEN': 0.007, \n\u001b[1;32m      5\u001b[0m          \u001b[0;34m'BEEF'\u001b[0m\u001b[0;34m:\u001b[0m \u001b[0;36m0.020\u001b[0m\u001b[0;34m,\u001b[0m\u001b[0;34m\u001b[0m\u001b[0;34m\u001b[0m\u001b[0m\n",
            "\u001b[0;31mModuleNotFoundError\u001b[0m: No module named 'pulp'",
            "",
            "\u001b[0;31m---------------------------------------------------------------------------\u001b[0;32m\nNOTE: If your import is failing due to a missing package, you can\nmanually install dependencies using either !pip or !apt.\n\nTo view examples of installing some common dependencies, click the\n\"Open Examples\" button below.\n\u001b[0;31m---------------------------------------------------------------------------\u001b[0m\n"
          ]
        }
      ]
    },
    {
      "cell_type": "markdown",
      "metadata": {
        "id": "mUHSUNKHc9Mu"
      },
      "source": [
        "### Trzeci podpunkt\r\n"
      ]
    },
    {
      "cell_type": "code",
      "metadata": {
        "colab": {
          "base_uri": "https://localhost:8080/",
          "height": 367
        },
        "id": "Cz1nopm_c9Mu",
        "outputId": "4c10832e-d86f-4424-ea9a-1eedb752e930"
      },
      "source": [
        "from pulp import *\n",
        "prob = LpProblem(\"The Whiskas Problem\",LpMinimize)\n",
        "Ingredients = ['CHICKEN', 'BEEF', 'MUTTON', 'RICE', 'WHEAT', 'GEL', 'SARDINES']\n",
        "\n",
        "costs = {'CHICKEN': 0.007, \n",
        "         'BEEF': 0.020, \n",
        "         'MUTTON': 0.016, \n",
        "         'RICE': 0.004, \n",
        "         'WHEAT': 0.005, \n",
        "         'GEL': 0.002, \n",
        "         'SARDINES': 0.012}\n",
        "\n",
        "proteinPercent = {'CHICKEN': 0.270, \n",
        "                  'BEEF': 0.260, \n",
        "                  'MUTTON': 0.250, \n",
        "                  'RICE': 0.000, \n",
        "                  'WHEAT': 0.040, \n",
        "                  'GEL': 0.000, \n",
        "                  'SARDINES': 0.25}\n",
        "\n",
        "fatPercent = {'CHICKEN': 0.140, \n",
        "              'BEEF': 0.150, \n",
        "              'MUTTON': 0.160, \n",
        "              'RICE': 0.010, \n",
        "              'WHEAT': 0.010, \n",
        "              'GEL': 0.000, \n",
        "              'SARDINES': 0.110}\n",
        "\n",
        "fibrePercent = {'CHICKEN': 0.000, \n",
        "                'BEEF': 0.000, \n",
        "                'MUTTON': 0.000, \n",
        "                'RICE': 0.400, \n",
        "                'WHEAT': 0.150, \n",
        "                'GEL': 0.000, \n",
        "                'SARDINES': 0.000}\n",
        "\n",
        "saltPercent = {'CHICKEN': 0.004, \n",
        "               'BEEF': 0.010, \n",
        "               'MUTTON': 0.006, \n",
        "               'RICE': 0.002, \n",
        "               'WHEAT': 0.008, \n",
        "               'GEL': 0.000, \n",
        "               'SARDINES': 0.005}\n",
        "\n",
        "vitaminBinug = {'CHICKEN': 0.003, \n",
        "                'BEEF': 0.022, \n",
        "                'MUTTON': 0.032, \n",
        "                'RICE': 0.000, \n",
        "                'WHEAT': 0.000, \n",
        "                'GEL': 0.000, \n",
        "                'SARDINES': 0.091}\n",
        "                \n",
        "ingredient_vars = LpVariable.dicts(\"Ingr\",Ingredients,0,100)\n",
        "prob += lpSum([costs[i]*ingredient_vars[i] for i in Ingredients]), \"Total Cost of Ingredients per can\"\n",
        "prob += lpSum([ingredient_vars[i] for i in Ingredients]) == 100, \"PercentagesSum\"\n",
        "prob += lpSum([proteinPercent[i] * ingredient_vars[i] for i in Ingredients]) >= 8.0, \"ProteinRequirement\"\n",
        "prob += lpSum([fatPercent[i] * ingredient_vars[i] for i in Ingredients]) >= 6.0, \"FatRequirement\"\n",
        "prob += lpSum([fibrePercent[i] * ingredient_vars[i] for i in Ingredients]) <= 2.0, \"FibreRequirement\"\n",
        "prob += lpSum([saltPercent[i] * ingredient_vars[i] for i in Ingredients]) <= 0.4, \"SaltRequirement\"\n",
        "prob += lpSum([vitaminBinug[i] * ingredient_vars[i] for i in Ingredients]) >= 0.8 , \"VitaminBRequirement\"\n",
        "# Można otrzymać ciekawy wynik przy zmianie granicy witaminy B z dolnej na górną, wtedy w skład karmy wchodzi mieszanka 4 składników\n",
        "prob.solve()\n",
        "ingr = \", \".join([\"{}: {}%\".format(name,round(i.varValue,2)) for i,name in zip(prob.variables(),sorted(Ingredients))])\n",
        "\n",
        "print(\"Końcowy produkt będzie kosztować {}$, będzie miał w składzie {}\".format(round(value(prob.objective),2),ingr))"
      ],
      "execution_count": 1,
      "outputs": [
        {
          "output_type": "error",
          "ename": "ModuleNotFoundError",
          "evalue": "ignored",
          "traceback": [
            "\u001b[0;31m---------------------------------------------------------------------------\u001b[0m",
            "\u001b[0;31mModuleNotFoundError\u001b[0m                       Traceback (most recent call last)",
            "\u001b[0;32m<ipython-input-1-fa0443f9d222>\u001b[0m in \u001b[0;36m<module>\u001b[0;34m()\u001b[0m\n\u001b[0;32m----> 1\u001b[0;31m \u001b[0;32mfrom\u001b[0m \u001b[0mpulp\u001b[0m \u001b[0;32mimport\u001b[0m \u001b[0;34m*\u001b[0m\u001b[0;34m\u001b[0m\u001b[0;34m\u001b[0m\u001b[0m\n\u001b[0m\u001b[1;32m      2\u001b[0m \u001b[0mprob\u001b[0m \u001b[0;34m=\u001b[0m \u001b[0mLpProblem\u001b[0m\u001b[0;34m(\u001b[0m\u001b[0;34m\"The Whiskas Problem\"\u001b[0m\u001b[0;34m,\u001b[0m\u001b[0mLpMinimize\u001b[0m\u001b[0;34m)\u001b[0m\u001b[0;34m\u001b[0m\u001b[0;34m\u001b[0m\u001b[0m\n\u001b[1;32m      3\u001b[0m \u001b[0mIngredients\u001b[0m \u001b[0;34m=\u001b[0m \u001b[0;34m[\u001b[0m\u001b[0;34m'CHICKEN'\u001b[0m\u001b[0;34m,\u001b[0m \u001b[0;34m'BEEF'\u001b[0m\u001b[0;34m,\u001b[0m \u001b[0;34m'MUTTON'\u001b[0m\u001b[0;34m,\u001b[0m \u001b[0;34m'RICE'\u001b[0m\u001b[0;34m,\u001b[0m \u001b[0;34m'WHEAT'\u001b[0m\u001b[0;34m,\u001b[0m \u001b[0;34m'GEL'\u001b[0m\u001b[0;34m,\u001b[0m \u001b[0;34m'SARDINES'\u001b[0m\u001b[0;34m]\u001b[0m\u001b[0;34m\u001b[0m\u001b[0;34m\u001b[0m\u001b[0m\n\u001b[1;32m      4\u001b[0m costs = {'CHICKEN': 0.013, \n\u001b[1;32m      5\u001b[0m          \u001b[0;34m'BEEF'\u001b[0m\u001b[0;34m:\u001b[0m \u001b[0;36m0.008\u001b[0m\u001b[0;34m,\u001b[0m\u001b[0;34m\u001b[0m\u001b[0;34m\u001b[0m\u001b[0m\n",
            "\u001b[0;31mModuleNotFoundError\u001b[0m: No module named 'pulp'",
            "",
            "\u001b[0;31m---------------------------------------------------------------------------\u001b[0;32m\nNOTE: If your import is failing due to a missing package, you can\nmanually install dependencies using either !pip or !apt.\n\nTo view examples of installing some common dependencies, click the\n\"Open Examples\" button below.\n\u001b[0;31m---------------------------------------------------------------------------\u001b[0m\n"
          ]
        }
      ]
    },
    {
      "cell_type": "code",
      "metadata": {
        "id": "-wuoUpuvc9Mw"
      },
      "source": [
        ""
      ],
      "execution_count": null,
      "outputs": []
    }
  ]
}