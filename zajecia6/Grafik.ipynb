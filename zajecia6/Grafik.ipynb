{
  "nbformat": 4,
  "nbformat_minor": 0,
  "metadata": {
    "language_info": {
      "codemirror_mode": {
        "name": "ipython",
        "version": 3
      },
      "file_extension": ".py",
      "mimetype": "text/x-python",
      "name": "python",
      "nbconvert_exporter": "python",
      "pygments_lexer": "ipython3",
      "version": "3.8.2-final"
    },
    "orig_nbformat": 2,
    "kernelspec": {
      "name": "python3",
      "display_name": "Python 3.8.2 32-bit",
      "metadata": {
        "interpreter": {
          "hash": "043792a4145a11e703eb0d0c0a933b88a7ecde794afa4caa1798b22df72c9741"
        }
      }
    },
    "colab": {
      "name": "lab5.ipynb",
      "provenance": []
    }
  },
  "cells": [
    {
      "cell_type": "markdown",
      "metadata": {
        "id": "kU-sxx9cE-7Q"
      },
      "source": [
        "## Tworzenie grafiku:\n",
        "\n",
        "Celem ćwiczenia jest ułożenie grafika w taki spoósb, aby koszty zatrudnienia były minimalne.\n",
        "\n",
        "Firma zatrudnia pracowników, których stawki wynagrodzenia i normę czasu pracu są określone i znane. \n",
        "\n",
        "Ograniczeniami jakie należy uwzglednić to dzienna norma, dostęp do określonego pracownika i maksymalna ilość dni w pracy dla danego pracownika.\n"
      ]
    },
    {
      "cell_type": "code",
      "metadata": {
        "colab": {
          "base_uri": "https://localhost:8080/",
          "height": 367
        },
        "id": "H5VBoVJkE-7a",
        "outputId": "945bb7cc-835e-4927-c944-11922eb232e6"
      },
      "source": [
        "from pulp import *\n",
        "import numpy as np\n",
        "\n",
        "Pracownicy = ['ANIA','STEFAN','HEKTOR','OLAF','LIDIA','PIOTR']\n",
        "\n",
        "Dni = ['PON','WT','SR','CZW','PIA']\n",
        "\n",
        "Stawki = {'ANIA':100.0,\n",
        "          'STEFAN':50.0,\n",
        "          'HEKTOR':60.0,\n",
        "          'OLAF':40.0,\n",
        "          'LIDIA':110.0,\n",
        "          'PIOTR':70.0\n",
        "         }\n",
        "\n",
        "Norma = {'PON':2,\n",
        "         'WT':1,\n",
        "         'SR':1,\n",
        "         'CZW':1,\n",
        "         'PIA':3\n",
        "        }\n",
        "\n",
        "Oblozenie = 3\n",
        "\n",
        "Dzienpracownika = set();\n",
        "\n",
        "for pracownik in Pracownicy:\n",
        "    for dzien in Dni:\n",
        "        Dzienpracownika.add((pracownik,dzien))\n",
        "        \n",
        "prob = LpProblem(\"The Scheduling Problem\", LpMinimize)\n",
        "\n",
        "Statusy = LpVariable.dicts('Statusy',Dzienpracownika,cat='Binary')\n",
        "\n",
        "prob += lpSum(Stawki[p_d[0]] * Statusy[p_d] for p_d in Dzienpracownika)\n",
        "\n",
        "for pracownik in Pracownicy:\n",
        "    prob += lpSum(Statusy[p_d] for p_d in Dzienpracownika if p_d[0]==pracownik) <= Oblozenie,'maksymalne oblozenie pracownika %s'%pracownik\n",
        "\n",
        "for dzien in Dni:\n",
        "    prob += lpSum(Statusy[p_d] for p_d in Dzienpracownika if p_d[1]==dzien) >= Norma[dzien], 'norma w dniu %s'%dzien\n",
        "    \n",
        "prob.writeLP(\"SchedulingModel.lp\")\n",
        "\n",
        "prob.solve()\n",
        "\n",
        "print('Minimalny koszt zatrudnienia pracowników w tygodniu:')\n",
        "print(str(prob.objective.value()) + 'zł\\n')\n",
        "\n",
        "rezultat = []\n",
        "\n",
        "for v in prob.variables():\n",
        "    if v.varValue > 0:\n",
        "        status = 'w pracy'\n",
        "\n",
        "    else:\n",
        "        status = 'nie w pracy'\n",
        "    rezultat.append( v.name + ' ' + status)\n",
        "\n",
        "for i in rezultat:\n",
        "    print(i)\n",
        "\n"
      ],
      "execution_count": 1,
      "outputs": [
        {
          "output_type": "error",
          "ename": "ModuleNotFoundError",
          "evalue": "ignored",
          "traceback": [
            "\u001b[0;31m---------------------------------------------------------------------------\u001b[0m",
            "\u001b[0;31mModuleNotFoundError\u001b[0m                       Traceback (most recent call last)",
            "\u001b[0;32m<ipython-input-1-4d47cc0fb07c>\u001b[0m in \u001b[0;36m<module>\u001b[0;34m()\u001b[0m\n\u001b[0;32m----> 1\u001b[0;31m \u001b[0;32mfrom\u001b[0m \u001b[0mpulp\u001b[0m \u001b[0;32mimport\u001b[0m \u001b[0;34m*\u001b[0m\u001b[0;34m\u001b[0m\u001b[0;34m\u001b[0m\u001b[0m\n\u001b[0m\u001b[1;32m      2\u001b[0m \u001b[0;32mimport\u001b[0m \u001b[0mnumpy\u001b[0m \u001b[0;32mas\u001b[0m \u001b[0mnp\u001b[0m\u001b[0;34m\u001b[0m\u001b[0;34m\u001b[0m\u001b[0m\n\u001b[1;32m      3\u001b[0m \u001b[0;34m\u001b[0m\u001b[0m\n\u001b[1;32m      4\u001b[0m \u001b[0mPracownicy\u001b[0m \u001b[0;34m=\u001b[0m \u001b[0;34m[\u001b[0m\u001b[0;34m'ANIA'\u001b[0m\u001b[0;34m,\u001b[0m\u001b[0;34m'STEFAN'\u001b[0m\u001b[0;34m,\u001b[0m\u001b[0;34m'HEKTOR'\u001b[0m\u001b[0;34m,\u001b[0m\u001b[0;34m'OLAF'\u001b[0m\u001b[0;34m,\u001b[0m\u001b[0;34m'LIDIA'\u001b[0m\u001b[0;34m,\u001b[0m\u001b[0;34m'PIOTR'\u001b[0m\u001b[0;34m]\u001b[0m\u001b[0;34m\u001b[0m\u001b[0;34m\u001b[0m\u001b[0m\n\u001b[1;32m      5\u001b[0m \u001b[0;34m\u001b[0m\u001b[0m\n",
            "\u001b[0;31mModuleNotFoundError\u001b[0m: No module named 'pulp'",
            "",
            "\u001b[0;31m---------------------------------------------------------------------------\u001b[0;32m\nNOTE: If your import is failing due to a missing package, you can\nmanually install dependencies using either !pip or !apt.\n\nTo view examples of installing some common dependencies, click the\n\"Open Examples\" button below.\n\u001b[0;31m---------------------------------------------------------------------------\u001b[0m\n"
          ]
        }
      ]
    }
  ]
}