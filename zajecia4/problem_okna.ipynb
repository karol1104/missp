{
  "nbformat": 4,
  "nbformat_minor": 0,
  "metadata": {
    "language_info": {
      "codemirror_mode": {
        "name": "ipython",
        "version": 3
      },
      "file_extension": ".py",
      "mimetype": "text/x-python",
      "name": "python",
      "nbconvert_exporter": "python",
      "pygments_lexer": "ipython3",
      "version": "3.8.2-final"
    },
    "orig_nbformat": 2,
    "kernelspec": {
      "name": "python3",
      "display_name": "Python 3.8.2 32-bit",
      "metadata": {
        "interpreter": {
          "hash": "043792a4145a11e703eb0d0c0a933b88a7ecde794afa4caa1798b22df72c9741"
        }
      }
    },
    "colab": {
      "name": "problem_okien_pulp.ipynb",
      "provenance": [],
      "collapsed_sections": []
    }
  },
  "cells": [
    {
      "cell_type": "markdown",
      "metadata": {
        "id": "N2OJ11Bt3Gjn"
      },
      "source": [
        "## Problem produkcji okien:\n",
        "\n",
        "Celem zajęć było rozwiązywanie problem z dziedziny zadań liniowych\n",
        "\n",
        "W firmie sprzedawane są okna w 2 rodzajach. W asortymecie firmy znajdują sie okna drewniane i aluminiowe. Firma posiada 3 fabryki z których produkowane są okna. Fabryki mają określoną dostepność czasu w tygodniu, który mogą poświecić na produkcje okien. Nie każda fabryka jest w stanie produkować okna aluminiowe i nie każa jest w stanie produkować okna drewniane.\n",
        "\n",
        "Cena okna drewnianego: 5000zł za sztuke\n",
        "Cena okna aluminiowego 3000zł za sztuke\n",
        "\n",
        "Czas jaki może poświecić fabryk 1 na produkcje to 4h, dla farbyki 2 to 12h, zaś dla fabryki 3 to 18h.\n",
        "\n",
        "Czas produkcji 1 okna przez każda z fabryk:\n",
        "Fabryka 1 produkuje tylko okna aluminiowe, a czas wykonanaia 1 okna to 1h\n",
        "Fabryka 2 produkuje tylko okna drewniane a czas wykonanaia 1 okna to 2h\n",
        "Fabryka 3 produkuje okna drewniane i aluminiowe, a czas wykonanaia 1 okna drwanianego to 2h, zaś aluminiowego 3h.\n",
        "\n",
        "Firma produkuje 2 rodzaje okien (aluminiowe i drewniane). Produkcja odbywa się w 3 fabrykach, w których wytwarzane są różne elementy potrzebne do złożenia okna. Celem jest maksymalizacja zysku ze sprzedarzy okien.\n",
        "\n",
        "Przy rozwiązywaniu problemu liniowego należy uwzglednić czas pracy poszczególnych farbyk, szybkoś pracy i jakie rodzaje okien dana fabryka produkuje.\n",
        "\n",
        "Celem Programu jest maksymalizacja zysków.\n",
        "\n",
        "W programie należy zastosować biblioteke ipywidgets pozwalająca zmieniać prarametry za pomocą suwaków."
      ]
    },
    {
      "cell_type": "code",
      "metadata": {
        "colab": {
          "base_uri": "https://localhost:8080/",
          "height": 367
        },
        "id": "vbou1feX3Gjy",
        "outputId": "97b45d01-91c1-42f4-ff0c-a872f73f07d5"
      },
      "source": [
        "from pulp import *\n",
        "prob = LpProblem(\"produkcjaOkien\",LpMaximize) #LpMaximize\n",
        "\n",
        "x1=LpVariable(\"drewniane\", lowBound=0, cat='Integer')\n",
        "x2=LpVariable(\"aluminowe\", lowBound=0, cat='Integer')\n",
        "\n",
        "\n",
        "\n",
        "\n",
        "prob += x2 <= 4, \"fabryka 1\"\n",
        "prob += 2*x1 <= 12, \"fabryka 2\"\n",
        "prob += 3*x2 + 2*x1 <= 18, \"fabryka 3\"\n",
        "\n",
        "prob += 3*x2 + 5*x1, \"Zysk\"\n",
        "\n",
        "prob.writeLP(\"Okna Model\")\n",
        "prob.solve()\n",
        "\n",
        "for v in prob.variables():\n",
        "    print(\"okna {} - wyprodukowane {} liczba parti{} produktu\".format(v.name, round(v.varValue),\"e\" if (round(v.varValue)<=4) else \"i\"))\n",
        "print(\"zysk wynosi {} zł\".format(round(value(prob.objective)*1000)))\n"
      ],
      "execution_count": 1,
      "outputs": [
        {
          "output_type": "error",
          "ename": "ModuleNotFoundError",
          "evalue": "ignored",
          "traceback": [
            "\u001b[0;31m---------------------------------------------------------------------------\u001b[0m",
            "\u001b[0;31mModuleNotFoundError\u001b[0m                       Traceback (most recent call last)",
            "\u001b[0;32m<ipython-input-1-7937bcce2355>\u001b[0m in \u001b[0;36m<module>\u001b[0;34m()\u001b[0m\n\u001b[0;32m----> 1\u001b[0;31m \u001b[0;32mfrom\u001b[0m \u001b[0mpulp\u001b[0m \u001b[0;32mimport\u001b[0m \u001b[0;34m*\u001b[0m\u001b[0;34m\u001b[0m\u001b[0;34m\u001b[0m\u001b[0m\n\u001b[0m\u001b[1;32m      2\u001b[0m \u001b[0mprob\u001b[0m \u001b[0;34m=\u001b[0m \u001b[0mLpProblem\u001b[0m\u001b[0;34m(\u001b[0m\u001b[0;34m\"produkcjaOkien\"\u001b[0m\u001b[0;34m,\u001b[0m\u001b[0mLpMaximize\u001b[0m\u001b[0;34m)\u001b[0m \u001b[0;31m#LpMaximize\u001b[0m\u001b[0;34m\u001b[0m\u001b[0;34m\u001b[0m\u001b[0m\n\u001b[1;32m      3\u001b[0m \u001b[0;34m\u001b[0m\u001b[0m\n\u001b[1;32m      4\u001b[0m \u001b[0mx1\u001b[0m\u001b[0;34m=\u001b[0m\u001b[0mLpVariable\u001b[0m\u001b[0;34m(\u001b[0m\u001b[0;34m\"drewniane\"\u001b[0m\u001b[0;34m,\u001b[0m \u001b[0mlowBound\u001b[0m\u001b[0;34m=\u001b[0m\u001b[0;36m0\u001b[0m\u001b[0;34m,\u001b[0m \u001b[0mcat\u001b[0m\u001b[0;34m=\u001b[0m\u001b[0;34m'Integer'\u001b[0m\u001b[0;34m)\u001b[0m\u001b[0;34m\u001b[0m\u001b[0;34m\u001b[0m\u001b[0m\n\u001b[1;32m      5\u001b[0m \u001b[0mx2\u001b[0m\u001b[0;34m=\u001b[0m\u001b[0mLpVariable\u001b[0m\u001b[0;34m(\u001b[0m\u001b[0;34m\"aluminowe\"\u001b[0m\u001b[0;34m,\u001b[0m \u001b[0mlowBound\u001b[0m\u001b[0;34m=\u001b[0m\u001b[0;36m0\u001b[0m\u001b[0;34m,\u001b[0m \u001b[0mcat\u001b[0m\u001b[0;34m=\u001b[0m\u001b[0;34m'Integer'\u001b[0m\u001b[0;34m)\u001b[0m\u001b[0;34m\u001b[0m\u001b[0;34m\u001b[0m\u001b[0m\n",
            "\u001b[0;31mModuleNotFoundError\u001b[0m: No module named 'pulp'",
            "",
            "\u001b[0;31m---------------------------------------------------------------------------\u001b[0;32m\nNOTE: If your import is failing due to a missing package, you can\nmanually install dependencies using either !pip or !apt.\n\nTo view examples of installing some common dependencies, click the\n\"Open Examples\" button below.\n\u001b[0;31m---------------------------------------------------------------------------\u001b[0m\n"
          ]
        }
      ]
    },
    {
      "cell_type": "code",
      "metadata": {
        "colab": {
          "referenced_widgets": [
            "732eeb45c4bf431d8339c6afafbf6b61"
          ]
        },
        "id": "1H_DQ10z3Gj1",
        "outputId": "070d7ec4-cf57-4469-9ebd-b37d7af05154"
      },
      "source": [
        "from pulp import *\n",
        "import pandas as pd\n",
        "from ipywidgets import interact, interactive, fixed, interact_manual, Layout, FloatSlider, IntSlider\n",
        "import ipywidgets as widgets\n",
        "\n",
        "style = {'description_width': 'initial'}\n",
        "\n",
        "cena_drewniane  = FloatSlider(min = 0.1, max = 10, value = 5, description = \"cena okien drewnianych\",  style = style )\n",
        "cena_aluminiowe = FloatSlider(min = 0.1, max = 10, value = 3, description = \"cena okien aluminiowych\", style = style )\n",
        "czas_fabryki1 = IntSlider(min = 0, max = 20, value = 4,  description = \"czas pracy fabryki 1\",  style = style )\n",
        "czas_fabryki2 = IntSlider(min = 0, max = 20, value = 12, description = \"czas pracy fabryki 2\",  style = style )\n",
        "czas_fabryki3 = IntSlider(min = 0, max = 20, value = 18, description = \"czas pracy fabryki 3\",  style = style )\n",
        "\n",
        "skaluj_drewniane  = FloatSlider(min = 0.1, max = 3, value = 1, description = \"produkcja drewanianych\",  style = style )\n",
        "skaluj_aluminiowe  = FloatSlider(min = 0.1, max = 3, value = 1, description = \"produkcja aluminowych\",  style = style )\n",
        "\n",
        "\n",
        "def obliczProdukcje(cAluminiowe = 3, cDrewniane = 5, c1 = 4, c2 = 12, c3 = 18, sAluminiowe = 1, sDrewniane = 1):\n",
        "    prob = LpProblem(\"produkcja Okien\",LpMaximize) #LpMaximize\n",
        "\n",
        "    x2=LpVariable(\"aluminowe\", lowBound = 0, cat = 'Integer')\n",
        "    x1=LpVariable(\"drewniane\", lowBound = 0, cat = 'Integer')\n",
        "\n",
        "    prob += cAluminiowe*x2 + cDrewniane*x1, \"Zysk\"\n",
        "\n",
        "    prob += sAluminiowe*x2 <= c1, \"Fabryka 1\"\n",
        "    prob += sDrewniane*2*x1 <= c2, \"Fabryka 2\"\n",
        "    prob += sAluminiowe*3*x2 + sDrewniane*2*x1 <= c3, \"Fabryka 3\"\n",
        "\n",
        "    prob.solve()\n",
        "\n",
        "    print(\"*\"*10+\"Produkcja i zysk\"+\"*\"*10)\n",
        "\n",
        "\n",
        "for v in prob.variables():\n",
        "    print(\"okna {} - wyprodukowane {} liczba parti{} produktu\".format(v.name, round(v.varValue),\"e\" if (round(v.varValue)<=4) else \"i\"))\n",
        "print(\"zysk wynosi {} zł\".format(round(value(prob.objective)*1000)))\n",
        "\n",
        "     shadows = [{'nazwa':name, 'shadow price': c.pi, \"slack\": c.slack} for name, c in prob.constraints.items()]\n",
        "    print(\"*\"*10+\"Shadow Prices\"+\"*\"*10)\n",
        "    print(pd.DataFrame(shadows))\n",
        "\n",
        "interact(\n",
        "    obliczProdukcje,\n",
        "    cDrewniane  = cena_drewniane,\n",
        "    cAluminiowe = cena_aluminiowe,\n",
        "    c1 = czas_fabryki1,\n",
        "    c2 = czas_fabryki2,\n",
        "    c3 = czas_fabryki3,\n",
        "    sDrewniane = skaluj_drewniane\n",
        "    sAluminiowe = skaluj_aluminiowe,\n",
        "    \n",
        "    )\n"
      ],
      "execution_count": null,
      "outputs": [
        {
          "output_type": "display_data",
          "data": {
            "text/plain": [
              "interactive(children=(FloatSlider(value=3.0, description='Cena aluminiowe', max=10.0, min=0.1, style=SliderSty…"
            ],
            "application/vnd.jupyter.widget-view+json": {
              "version_major": 2,
              "version_minor": 0,
              "model_id": "732eeb45c4bf431d8339c6afafbf6b61"
            }
          },
          "metadata": {
            "tags": []
          }
        },
        {
          "output_type": "execute_result",
          "data": {
            "text/plain": [
              "<function __main__.obliczProdukcje(cAluminiowe=3, cDrewniane=5, cf1=4, cf2=12, cf3=18, sAluminiowe=1, sDrewniane=1)>"
            ]
          },
          "metadata": {
            "tags": []
          },
          "execution_count": 1
        }
      ]
    },
    {
      "cell_type": "code",
      "metadata": {
        "id": "ecIQIWaP3Gj2"
      },
      "source": [
        ""
      ],
      "execution_count": null,
      "outputs": []
    }
  ]
}