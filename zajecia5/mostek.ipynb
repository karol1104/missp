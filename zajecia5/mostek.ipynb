{
  "nbformat": 4,
  "nbformat_minor": 0,
  "metadata": {
    "language_info": {
      "codemirror_mode": {
        "name": "ipython",
        "version": 3
      },
      "file_extension": ".py",
      "mimetype": "text/x-python",
      "name": "python",
      "nbconvert_exporter": "python",
      "pygments_lexer": "ipython3",
      "version": "3.8.2-final"
    },
    "orig_nbformat": 2,
    "kernelspec": {
      "name": "python3",
      "display_name": "Python 3.8.2 32-bit",
      "metadata": {
        "interpreter": {
          "hash": "043792a4145a11e703eb0d0c0a933b88a7ecde794afa4caa1798b22df72c9741"
        }
      }
    },
    "colab": {
      "name": "lab4.ipynb",
      "provenance": []
    }
  },
  "cells": [
    {
      "cell_type": "markdown",
      "metadata": {
        "id": "fU2fjhvuA0DH"
      },
      "source": [
        "## Zadanie Mostek:\n",
        "\n",
        "Celem zadania jest dobranie wartości rezystorów i obliczyć moc wydzielonej w układzie mostk wskazanego przez prowadzącego."
      ]
    },
    {
      "cell_type": "code",
      "metadata": {
        "id": "T0ZCURjOA0DS",
        "outputId": "f52b7bd8-f5b8-40f7-e97b-79974fc8f8da"
      },
      "source": [
        "from pulp import *\n",
        "\n",
        "Currents = ['i1', 'i2', 'i3', 'i4', 'i5']\n",
        "Voltages = {'i1':6,'i2':10,'i3':4,'i4':7,'i5':3}\n",
        "Limits = {'i1':4,'i2':2,'i3':2,'i4':2,'i5':4}\n",
        "\n",
        "prob = LpProblem(\"Mostek\",LpMinimize)\n",
        "\n",
        "i_var = LpVariable.dicts(\"\",Currents,0)\n",
        "prob += lpSum([i_var[i]*Voltages[i] for i in Currents]), \"Moc\"\n",
        "\n",
        "prob += lpSum([i_var['i1'],-i_var['i4'],-i_var['i3']]) == 0\n",
        "prob += lpSum([i_var['i2'],-i_var['i5'],i_var['i3']]) == 0\n",
        "prob += lpSum([i_var['i5'],i_var['i4'],-i_var['i2'],-i_var['i1']]) == 0\n",
        "\n",
        "for i in Currents:\n",
        "    prob += i_var[i] >= Limits[i] - delta, \"{}_miniumum\".format(i)\n",
        "    prob += i_var[i] <= Limits[i] + delta, \"{}_maximum\".format(i)\n",
        "\n",
        "prob.solve()\n",
        "\n",
        "i = 0\n",
        "for v in prob.variables():\n",
        "    print(\"R{} = {}kohm ({}mA)\".format(i+1,Voltages['i'+str(i+1)]/v.varValue,v.varValue))\n",
        "    i+=1\n",
        "print(\"moc wydzielana na mostku {}W\".format(value(prob.objective)/1000))"
      ],
      "execution_count": null,
      "outputs": [
        {
          "output_type": "stream",
          "text": [
            "R1 = 2.0kΩ (3.0mA)\n",
            "R2 = 10.0kΩ (1.0mA)\n",
            "R3 = 2.0kΩ (2.0mA)\n",
            "R4 = 7.0kΩ (1.0mA)\n",
            "R5 = 1.0kΩ (3.0mA)\n",
            "Moc mostka 0.052W\n"
          ],
          "name": "stdout"
        }
      ]
    },
    {
      "cell_type": "code",
      "metadata": {
        "id": "0pMVd5isA0DW"
      },
      "source": [
        ""
      ],
      "execution_count": null,
      "outputs": []
    }
  ]
}