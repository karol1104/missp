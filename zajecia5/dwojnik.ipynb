{
  "nbformat": 4,
  "nbformat_minor": 0,
  "metadata": {
    "language_info": {
      "codemirror_mode": {
        "name": "ipython",
        "version": 3
      },
      "file_extension": ".py",
      "mimetype": "text/x-python",
      "name": "python",
      "nbconvert_exporter": "python",
      "pygments_lexer": "ipython3",
      "version": "3.8.2-final"
    },
    "orig_nbformat": 2,
    "kernelspec": {
      "name": "python3",
      "display_name": "Python 3.8.2 32-bit",
      "metadata": {
        "interpreter": {
          "hash": "043792a4145a11e703eb0d0c0a933b88a7ecde794afa4caa1798b22df72c9741"
        }
      }
    },
    "colab": {
      "name": "lab4.ipynb",
      "provenance": [],
      "collapsed_sections": []
    }
  },
  "cells": [
    {
      "cell_type": "markdown",
      "metadata": {
        "id": "T5W6EtFOA0DV"
      },
      "source": [
        "## Zadanie dwójnik:\n",
        "\n",
        "Celem zadania jest dobranie wartości rezystorów i określenie maksymalnego prądu dla dwójnika przedstawionego przez prowadzącego.\n"
      ]
    },
    {
      "cell_type": "code",
      "metadata": {
        "id": "18MzkWExA0DV",
        "outputId": "8cf58a0e-5e49-4aea-a191-e6c972f52aec"
      },
      "source": [
        "from pulp import *\n",
        "\n",
        "Napiecie = ['i1', 'i2', 'i3', 'i4', 'i5']\n",
        "Rezystor = [8,6,4,10,8]\n",
        "LimitNapiecia = [2,3,4,2,2]\n",
        "\n",
        "prob = LpProblem(\"Układ\",LpMaximize)\n",
        "\n",
        "i_var = LpVariable.dicts(\"\",Napiecie,0)\n",
        "\n",
        "prob += i_var['i3']\n",
        "\n",
        "prob += i_var['i1'] + i_var['i2'] - i_var['i3'] == 0, \"wezel 1\"\n",
        "prob += i_var['i3'] - i_var['i4'] - i_var['i5'] == 0, \"wezel 2\"\n",
        "prob += i_var['i4']*Rezystor[3] == i_var['i5']*Rezystor[4], \"napiecie na 1 parze\"\n",
        "prob += i_var['i1']*Rezystor[0] == i_var['i2']*Rezystor[1], \"napiecie na 2 parze\"\n",
        "\n",
        "\n",
        "for i, val in enumerate(Napiecie):\n",
        "    prob += i_var[val] <= LimitNapiecia[i]\n",
        "\n",
        "prob.solve()\n",
        "\n",
        "for v in prob.variables():\n",
        "    print(\"{} = {}A\".format(v.name,v.varValue))\n",
        "print(\"maksymalny płynący prąd: {}A\".format(value(prob.objective)))\n"
      ],
      "execution_count": null,
      "outputs": [
        {
          "output_type": "stream",
          "text": [
            "_i1 = 1.5428571A\n",
            "_i2 = 2.0571429A\n",
            "_i3 = 3.6A\n",
            "_i4 = 1.6A\n",
            "_i5 = 2.0A\n",
            "Maksymalny prąd: 3.6A\n"
          ],
          "name": "stdout"
        }
      ]
    },
    {
      "cell_type": "code",
      "metadata": {
        "id": "0pMVd5isA0DW"
      },
      "source": [
        ""
      ],
      "execution_count": null,
      "outputs": []
    }
  ]
}